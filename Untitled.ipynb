{
 "cells": [
  {
   "cell_type": "code",
   "execution_count": null,
   "id": "e8e8bc88",
   "metadata": {},
   "outputs": [],
   "source": [
    "s=\"high there a class\""
   ]
  },
  {
   "cell_type": "code",
   "execution_count": null,
   "id": "4d554489",
   "metadata": {},
   "outputs": [],
   "source": [
    "m=s.split()"
   ]
  },
  {
   "cell_type": "code",
   "execution_count": null,
   "id": "753fe4f7",
   "metadata": {},
   "outputs": [],
   "source": [
    "print(m)"
   ]
  },
  {
   "cell_type": "code",
   "execution_count": null,
   "id": "6dfe72ca",
   "metadata": {},
   "outputs": [],
   "source": [
    "s=\"Earth\"\n",
    "n=12742"
   ]
  },
  {
   "cell_type": "code",
   "execution_count": null,
   "id": "47b4b0d7",
   "metadata": {},
   "outputs": [],
   "source": [
    "m=\"The diameter of {} is {} kilometers\".format(s,n)"
   ]
  },
  {
   "cell_type": "code",
   "execution_count": null,
   "id": "e382cdc7",
   "metadata": {},
   "outputs": [],
   "source": [
    "print(m)"
   ]
  },
  {
   "cell_type": "code",
   "execution_count": null,
   "id": "68d4375c",
   "metadata": {},
   "outputs": [],
   "source": [
    "lst = [1,2,[3,4],[5,[100,200,['hello']],23,11],1,7]\n",
    "hello_word = lst[3][1][2]"
   ]
  },
  {
   "cell_type": "code",
   "execution_count": null,
   "id": "cd3092bd",
   "metadata": {},
   "outputs": [],
   "source": [
    "print(hello_word)"
   ]
  },
  {
   "cell_type": "code",
   "execution_count": null,
   "id": "5d648b9c",
   "metadata": {},
   "outputs": [],
   "source": [
    "d = {'k1':[1,2,3,{'tricky':['oh','man','inception',{'target':[1,2,3,'hello']}]}]}"
   ]
  },
  {
   "cell_type": "code",
   "execution_count": null,
   "id": "9820bfe9",
   "metadata": {},
   "outputs": [],
   "source": [
    "hello_word={1,'k1','tricky','target'}"
   ]
  },
  {
   "cell_type": "code",
   "execution_count": null,
   "id": "555e34ab",
   "metadata": {},
   "outputs": [],
   "source": [
    "print(hello_word)"
   ]
  },
  {
   "cell_type": "code",
   "execution_count": null,
   "id": "a30bbf2e",
   "metadata": {},
   "outputs": [],
   "source": [
    "def contains_dog(input_string):\n",
    "    return 'dog' in input_string"
   ]
  },
  {
   "cell_type": "code",
   "execution_count": null,
   "id": "ce9acac1",
   "metadata": {},
   "outputs": [],
   "source": [
    "input_str = \"I have a dog and a cat.\" "
   ]
  },
  {
   "cell_type": "code",
   "execution_count": null,
   "id": "47cc91d0",
   "metadata": {},
   "outputs": [],
   "source": [
    "result = contains_dog(input_str) "
   ]
  },
  {
   "cell_type": "code",
   "execution_count": null,
   "id": "8ac54e99",
   "metadata": {},
   "outputs": [],
   "source": [
    "print(result)"
   ]
  },
  {
   "cell_type": "code",
   "execution_count": null,
   "id": "88309f7b",
   "metadata": {},
   "outputs": [],
   "source": [
    "input_string=\"I have too many DOG and cats\""
   ]
  },
  {
   "cell_type": "code",
   "execution_count": null,
   "id": "549466e3",
   "metadata": {},
   "outputs": [],
   "source": [
    "result=contains_dog(input_str)"
   ]
  },
  {
   "cell_type": "code",
   "execution_count": null,
   "id": "d7eb9218",
   "metadata": {},
   "outputs": [],
   "source": [
    "print(result)"
   ]
  },
  {
   "cell_type": "code",
   "execution_count": null,
   "id": "84afecc3",
   "metadata": {},
   "outputs": [],
   "source": [
    "def count_dog_occurance(input_string):\n",
    "    return \"dog count\" in input_str"
   ]
  },
  {
   "cell_type": "code",
   "execution_count": null,
   "id": "a1b2e532",
   "metadata": {},
   "outputs": [],
   "source": [
    "input_str=\"I have a dog count and a cat\""
   ]
  },
  {
   "cell_type": "code",
   "execution_count": null,
   "id": "b95576c4",
   "metadata": {},
   "outputs": [],
   "source": [
    "result=count_dog_occurance(input_str)"
   ]
  },
  {
   "cell_type": "code",
   "execution_count": null,
   "id": "8205771a",
   "metadata": {},
   "outputs": [],
   "source": [
    "print(result)"
   ]
  },
  {
   "cell_type": "code",
   "execution_count": null,
   "id": "b7ff7935",
   "metadata": {},
   "outputs": [],
   "source": [
    "list1 = [\"Hello \", \"take \"]\n",
    "list2 = [\"Dear\", \"Sir\"]"
   ]
  },
  {
   "cell_type": "code",
   "execution_count": null,
   "id": "904005af",
   "metadata": {},
   "outputs": [],
   "source": [
    "concatenate_list=[x+y for x in list1 for y in  list2]"
   ]
  },
  {
   "cell_type": "code",
   "execution_count": null,
   "id": "0a8997a0",
   "metadata": {},
   "outputs": [],
   "source": [
    "print(concatenate_list)"
   ]
  },
  {
   "cell_type": "code",
   "execution_count": null,
   "id": "4e7d15cd",
   "metadata": {},
   "outputs": [],
   "source": []
  },
  {
   "cell_type": "code",
   "execution_count": null,
   "id": "dc02b7b3",
   "metadata": {},
   "outputs": [],
   "source": [
    "seq = ['soup', 'dog', 'salad', 'cat', 'great']\n",
    "\n",
    "filtered_words = list(filter(lambda x: x.startswith('s'), seq))\n",
    "\n",
    "print(filtered_words)"
   ]
  },
  {
   "cell_type": "code",
   "execution_count": null,
   "id": "d3bb3ee9",
   "metadata": {},
   "outputs": [],
   "source": []
  },
  {
   "cell_type": "code",
   "execution_count": 2,
   "id": "bca3fc33",
   "metadata": {},
   "outputs": [
    {
     "name": "stdout",
     "output_type": "stream",
     "text": [
      "Small Challan\n",
      "Heavy Challan\n"
     ]
    }
   ],
   "source": [
    "def caught_speeding(speed, is_birthday):\n",
    "    if is_birthday:\n",
    "        speed -= 5\n",
    "    if speed <= 60:\n",
    "        return \"No Challan\"\n",
    "    elif 61 <= speed <= 80:\n",
    "        return \"Small Challan\"\n",
    "    else:\n",
    "        return \"Heavy Challan\"\n",
    "result1 = caught_speeding(81, True)\n",
    "result2 = caught_speeding(81, False)\n",
    "print(result1)  \n",
    "print(result2)  "
   ]
  },
  {
   "cell_type": "code",
   "execution_count": 3,
   "id": "bdcb9c5e",
   "metadata": {},
   "outputs": [],
   "source": [
    "list1 = [\"M\", \"na\", \"i\", \"She\"]"
   ]
  },
  {
   "cell_type": "code",
   "execution_count": 4,
   "id": "57c0c7bf",
   "metadata": {},
   "outputs": [],
   "source": [
    "list2 = [\"y\", \"me\", \"s\", \"lly\"]"
   ]
  },
  {
   "cell_type": "code",
   "execution_count": 5,
   "id": "d3e6ea1d",
   "metadata": {},
   "outputs": [],
   "source": [
    "result = [a + b for a, b in zip(list1, list2)]"
   ]
  },
  {
   "cell_type": "code",
   "execution_count": 6,
   "id": "33bb5c9f",
   "metadata": {},
   "outputs": [
    {
     "name": "stdout",
     "output_type": "stream",
     "text": [
      "['My', 'name', 'is', 'Shelly']\n"
     ]
    }
   ],
   "source": [
    "print(result)"
   ]
  },
  {
   "cell_type": "code",
   "execution_count": 7,
   "id": "5b47b443",
   "metadata": {},
   "outputs": [
    {
     "name": "stdout",
     "output_type": "stream",
     "text": [
      "[10, 20, [300, 400, [5000, 6000, 7000], 500], 30, 40]\n"
     ]
    }
   ],
   "source": [
    "list1 = [10, 20, [300, 400, [5000, 6000], 500], 30, 40]\n",
    "list1[2][2].append(7000)\n",
    "print(list1)"
   ]
  },
  {
   "cell_type": "code",
   "execution_count": 8,
   "id": "3f27d8ee",
   "metadata": {},
   "outputs": [
    {
     "name": "stdout",
     "output_type": "stream",
     "text": [
      "[5, 15, 25, 50]\n"
     ]
    }
   ],
   "source": [
    "list1 = [5, 20, 15, 20, 25, 50, 20]\n",
    "list1 = [item for item in list1 if item != 20]\n",
    "print(list1)"
   ]
  },
  {
   "cell_type": "code",
   "execution_count": 9,
   "id": "664a3563",
   "metadata": {},
   "outputs": [
    {
     "name": "stdout",
     "output_type": "stream",
     "text": [
      "True\n"
     ]
    }
   ],
   "source": [
    "dl = {'a': 100, \"b\": 200, 'c': 300}\n",
    "value_exists = 200 in dl.values()\n",
    "print(value_exists)"
   ]
  },
  {
   "cell_type": "code",
   "execution_count": 10,
   "id": "24294517",
   "metadata": {},
   "outputs": [
    {
     "name": "stdout",
     "output_type": "stream",
     "text": [
      "24690\n"
     ]
    }
   ],
   "source": [
    "n = 5\n",
    "series_sum = sum(int('2' * i) for i in range(1, n + 1))\n",
    "print(series_sum)"
   ]
  },
  {
   "cell_type": "code",
   "execution_count": null,
   "id": "db4dc1cf",
   "metadata": {},
   "outputs": [],
   "source": []
  }
 ],
 "metadata": {
  "kernelspec": {
   "display_name": "Python 3 (ipykernel)",
   "language": "python",
   "name": "python3"
  },
  "language_info": {
   "codemirror_mode": {
    "name": "ipython",
    "version": 3
   },
   "file_extension": ".py",
   "mimetype": "text/x-python",
   "name": "python",
   "nbconvert_exporter": "python",
   "pygments_lexer": "ipython3",
   "version": "3.11.5"
  }
 },
 "nbformat": 4,
 "nbformat_minor": 5
}
